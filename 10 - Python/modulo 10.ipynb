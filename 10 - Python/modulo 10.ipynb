{
 "cells": [
  {
   "cell_type": "code",
   "execution_count": 1,
   "metadata": {},
   "outputs": [
    {
     "ename": "FileNotFoundError",
     "evalue": "[Errno 2] No such file or directory: '/path/to/mars.jpg'",
     "output_type": "error",
     "traceback": [
      "\u001b[1;31m---------------------------------------------------------------------------\u001b[0m",
      "\u001b[1;31mFileNotFoundError\u001b[0m                         Traceback (most recent call last)",
      "\u001b[1;32mc:\\Users\\Alex Ramirez\\Desktop\\Curso Propedeutico - Python\\Nueva carpeta - copia (2)\\modulo 10.ipynb Cell 1'\u001b[0m in \u001b[0;36m<module>\u001b[1;34m\u001b[0m\n\u001b[0;32m      <a href='vscode-notebook-cell:/c%3A/Users/Alex%20Ramirez/Desktop/Curso%20Propedeutico%20-%20Python/Nueva%20carpeta%20-%20copia%20%282%29/modulo%2010.ipynb#ch0000000?line=0'>1</a>\u001b[0m \u001b[39m#TRACEBACKS\u001b[39;00m\n\u001b[1;32m----> <a href='vscode-notebook-cell:/c%3A/Users/Alex%20Ramirez/Desktop/Curso%20Propedeutico%20-%20Python/Nueva%20carpeta%20-%20copia%20%282%29/modulo%2010.ipynb#ch0000000?line=1'>2</a>\u001b[0m \u001b[39mopen\u001b[39;49m(\u001b[39m\"\u001b[39;49m\u001b[39m/path/to/mars.jpg\u001b[39;49m\u001b[39m\"\u001b[39;49m)\n",
      "\u001b[1;31mFileNotFoundError\u001b[0m: [Errno 2] No such file or directory: '/path/to/mars.jpg'"
     ]
    }
   ],
   "source": [
    "#TRACEBACKS\n",
    "open(\"/path/to/mars.jpg\")"
   ]
  },
  {
   "cell_type": "code",
   "execution_count": 9,
   "metadata": {},
   "outputs": [
    {
     "ename": "PermissionError",
     "evalue": "[Errno 13] Permission denied: 'config.txt'",
     "output_type": "error",
     "traceback": [
      "\u001b[1;31m---------------------------------------------------------------------------\u001b[0m",
      "\u001b[1;31mPermissionError\u001b[0m                           Traceback (most recent call last)",
      "\u001b[1;32mc:\\Users\\Alex Ramirez\\Desktop\\Curso Propedeutico - Python\\Nueva carpeta - copia (2)\\modulo 10.ipynb Cell 2'\u001b[0m in \u001b[0;36m<module>\u001b[1;34m\u001b[0m\n\u001b[0;32m      <a href='vscode-notebook-cell:/c%3A/Users/Alex%20Ramirez/Desktop/Curso%20Propedeutico%20-%20Python/Nueva%20carpeta%20-%20copia%20%282%29/modulo%2010.ipynb#ch0000001?line=0'>1</a>\u001b[0m \u001b[39mtry\u001b[39;00m :\n\u001b[1;32m----> <a href='vscode-notebook-cell:/c%3A/Users/Alex%20Ramirez/Desktop/Curso%20Propedeutico%20-%20Python/Nueva%20carpeta%20-%20copia%20%282%29/modulo%2010.ipynb#ch0000001?line=1'>2</a>\u001b[0m     \u001b[39mopen\u001b[39;49m(\u001b[39m\"\u001b[39;49m\u001b[39mconfig.txt\u001b[39;49m\u001b[39m\"\u001b[39;49m)\n\u001b[0;32m      <a href='vscode-notebook-cell:/c%3A/Users/Alex%20Ramirez/Desktop/Curso%20Propedeutico%20-%20Python/Nueva%20carpeta%20-%20copia%20%282%29/modulo%2010.ipynb#ch0000001?line=2'>3</a>\u001b[0m     \u001b[39mprint\u001b[39m(\u001b[39m\"\u001b[39m\u001b[39mSe pudo abrir :D\u001b[39m\u001b[39m\"\u001b[39m)\n\u001b[0;32m      <a href='vscode-notebook-cell:/c%3A/Users/Alex%20Ramirez/Desktop/Curso%20Propedeutico%20-%20Python/Nueva%20carpeta%20-%20copia%20%282%29/modulo%2010.ipynb#ch0000001?line=3'>4</a>\u001b[0m \u001b[39mexcept\u001b[39;00m \u001b[39mFileNotFoundError\u001b[39;00m:\n",
      "\u001b[1;31mPermissionError\u001b[0m: [Errno 13] Permission denied: 'config.txt'"
     ]
    }
   ],
   "source": [
    "#Control de excepciones\n",
    "#TRY AND EXCEPT | Sirve para controlar excepciones, que mostrar en caso de algun error\n",
    "try :\n",
    "    open(\"config.txt\")\n",
    "    print(\"Se pudo abrir :D\")\n",
    "except FileNotFoundError:\n",
    "    print(\"No se puede encontrar el archivo config.txt :C\")\n",
    "\n"
   ]
  },
  {
   "cell_type": "code",
   "execution_count": 1,
   "metadata": {},
   "outputs": [
    {
     "name": "stdout",
     "output_type": "stream",
     "text": [
      "No se puede encontrar el archivo config.txt :C\n"
     ]
    }
   ],
   "source": [
    "try :\n",
    "    open(\"config.txt\")\n",
    "    print(\"Se pudo abrir :D\")\n",
    "except Exception:\n",
    "    print(\"No se puede encontrar el archivo config.txt :C\")\n"
   ]
  },
  {
   "cell_type": "code",
   "execution_count": 2,
   "metadata": {},
   "outputs": [
    {
     "name": "stdout",
     "output_type": "stream",
     "text": [
      "No tienes permisos para acceder a este archivo :c\n"
     ]
    }
   ],
   "source": [
    "try :\n",
    "    open(\"config.txt\")\n",
    "    print(\"Se pudo abrir :D\")\n",
    "except FileNotFoundError:\n",
    "    print(\"No se puede encontrar el archivo config.txt :C\")\n",
    "except PermissionError:\n",
    "    print(\"No tienes permisos para acceder a este archivo :c\")\n"
   ]
  },
  {
   "cell_type": "code",
   "execution_count": 20,
   "metadata": {},
   "outputs": [
    {
     "name": "stdout",
     "output_type": "stream",
     "text": [
      "No hay suficiente agua para 5 astronautas despues de 2 dias\n",
      "Todos los argumentos deben ser enteros, pero se recibió: '5' \n"
     ]
    }
   ],
   "source": [
    "#Generación de excepciones\n",
    "'''def aguaRestante(astronautas, agua_restante, diasRestantes):\n",
    "    usoDiario = astronautas * 11\n",
    "    usoTotal = usoDiario * diasRestantes\n",
    "    totalAguaRestante = agua_restante - usoTotal\n",
    "    return f\"Total de agua restante despues de  {diasRestantes} dias es: {totalAguaRestante} litros\"\n",
    "aguaRestante(5, 100, 2)'''\n",
    "\n",
    "def aguaRestante(astronautas, agua_restante, diasRestantes):\n",
    "    usoDiario = astronautas * 11\n",
    "    usoTotal = usoDiario * diasRestantes\n",
    "    totalAguaRestante = agua_restante - usoTotal\n",
    "    if totalAguaRestante < 0:\n",
    "        raise RuntimeError(f\"No hay suficiente agua para {astronautas} astronautas despues de {diasRestantes} dias\")\n",
    "    return f\"Total de agua restante despues de  {diasRestantes} dias es: {totalAguaRestante} litros\"\n",
    "\n",
    "try:\n",
    "    aguaRestante(5, 100, 2)\n",
    "except RuntimeError as err:\n",
    "    print(err)\n",
    "\n",
    "def aguaRestante(astronautas, agua_restante, diasRestantes):\n",
    "    for argumentos in [astronautas, agua_restante, diasRestantes] :\n",
    "        try:\n",
    "            argumentos/10 # Si el argumento es un numero, la operacion deberia funcionar\n",
    "        except: \n",
    "            raise TypeError(f\"Todos los argumentos deben ser enteros, pero se recibió: '{argumentos}' \") #Se mostrará si el dato no es entero \n",
    "    usoDiario = astronautas * 11\n",
    "    usoTotal = usoDiario * diasRestantes\n",
    "    totalAguaRestante = agua_restante - usoTotal\n",
    "    if totalAguaRestante < 0:\n",
    "        raise RuntimeError(f\"No hay suficiente agua para {astronautas} astronautas despues de {diasRestantes} dias\")\n",
    "    return f\"Total de agua restante despues de  {diasRestantes} dias es: {totalAguaRestante} litros\"\n",
    "\n",
    "try:\n",
    "    aguaRestante('5', '100', None)\n",
    "except RuntimeError as err:\n",
    "    print(err)\n",
    "except TypeError as err:\n",
    "    print(err)\n"
   ]
  }
 ],
 "metadata": {
  "interpreter": {
   "hash": "9efce205f64ad363cd9f14615485aca38ee4ef0915866e318aa83c8d0c93f6fc"
  },
  "kernelspec": {
   "display_name": "Python 3.10.2 64-bit",
   "language": "python",
   "name": "python3"
  },
  "language_info": {
   "codemirror_mode": {
    "name": "ipython",
    "version": 3
   },
   "file_extension": ".py",
   "mimetype": "text/x-python",
   "name": "python",
   "nbconvert_exporter": "python",
   "pygments_lexer": "ipython3",
   "version": "3.10.2"
  },
  "orig_nbformat": 4
 },
 "nbformat": 4,
 "nbformat_minor": 2
}
