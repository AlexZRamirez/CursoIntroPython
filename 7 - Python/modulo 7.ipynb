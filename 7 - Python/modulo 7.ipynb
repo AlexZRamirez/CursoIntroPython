{
 "cells": [
  {
   "cell_type": "markdown",
   "metadata": {},
   "source": [
    "CICLO WHILE"
   ]
  },
  {
   "cell_type": "code",
   "execution_count": 1,
   "metadata": {},
   "outputs": [],
   "source": [
    "user_input = ''\n",
    "\n",
    "while user_input.lower() != 'hecho':\n",
    "    user_input = input('Ingresa un nuevo valor o hecho cuando termines: ')"
   ]
  },
  {
   "cell_type": "code",
   "execution_count": 4,
   "metadata": {},
   "outputs": [
    {
     "name": "stdout",
     "output_type": "stream",
     "text": [
      "['valor1 ', 'valor2', 'valor3', 'valor4']\n"
     ]
    }
   ],
   "source": [
    "entradaUsuario = ''\n",
    "entradas = []\n",
    "\n",
    "while entradaUsuario.lower() != 'hecho':\n",
    "     # Verificamos si hay un valor en user_input\n",
    "    if entradaUsuario != '':\n",
    "        # Almacenamos ese valor en la lista\n",
    "        entradas.append(entradaUsuario)\n",
    "    entradaUsuario = input('Ingresa un nuevo valor o hecho cuando termines: ')\n",
    "\n",
    "print(entradas)"
   ]
  },
  {
   "cell_type": "markdown",
   "metadata": {},
   "source": [
    "CICLO FOR"
   ]
  },
  {
   "cell_type": "code",
   "execution_count": 6,
   "metadata": {},
   "outputs": [
    {
     "name": "stdout",
     "output_type": "stream",
     "text": [
      "The first planet is  Mercurio\n",
      "The second planet is  Venus\n",
      "The third planet is  Tierra\n"
     ]
    }
   ],
   "source": [
    "planeta = [\"Mercurio\", \"Venus\", \"Tierra\", \"Marte\", \"Jupiter\", \"Saturno\", \"Urano\", \"Neptuno\"]\n",
    "print(\"The first planet is \", planeta[0])\n",
    "print(\"The second planet is \", planeta[1])\n",
    "print(\"The third planet is \", planeta[2])"
   ]
  },
  {
   "cell_type": "code",
   "execution_count": 7,
   "metadata": {},
   "outputs": [
    {
     "name": "stdout",
     "output_type": "stream",
     "text": [
      "4\n",
      "3\n",
      "2\n",
      "1\n",
      "0\n",
      "¡Dispara cañon MAC! 🚀\n"
     ]
    }
   ],
   "source": [
    "cuentaAtras = [4, 3, 2, 1, 0]\n",
    "for num in cuentaAtras:\n",
    "    print(num)\n",
    "print(\"¡Dispara cañon MAC! 🚀\")"
   ]
  },
  {
   "cell_type": "code",
   "execution_count": 8,
   "metadata": {},
   "outputs": [
    {
     "name": "stdout",
     "output_type": "stream",
     "text": [
      "4\n",
      "3\n",
      "2\n",
      "1\n",
      "0\n",
      "¡Dispara cañon MAC! 🚀\n"
     ]
    }
   ],
   "source": [
    "from time import sleep\n",
    "cuentaAtras = [4, 3, 2, 1, 0]\n",
    "for num in cuentaAtras:\n",
    "    print(num) # Imprime el numero\n",
    "    sleep(1)# Espera (1segundo)\n",
    "print(\"¡Dispara cañon MAC! 🚀\")"
   ]
  }
 ],
 "metadata": {
  "interpreter": {
   "hash": "9efce205f64ad363cd9f14615485aca38ee4ef0915866e318aa83c8d0c93f6fc"
  },
  "kernelspec": {
   "display_name": "Python 3.10.2 64-bit",
   "language": "python",
   "name": "python3"
  },
  "language_info": {
   "codemirror_mode": {
    "name": "ipython",
    "version": 3
   },
   "file_extension": ".py",
   "mimetype": "text/x-python",
   "name": "python",
   "nbconvert_exporter": "python",
   "pygments_lexer": "ipython3",
   "version": "3.10.2"
  },
  "orig_nbformat": 4
 },
 "nbformat": 4,
 "nbformat_minor": 2
}
