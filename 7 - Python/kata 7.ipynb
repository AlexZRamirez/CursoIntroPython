{
 "cells": [
  {
   "cell_type": "code",
   "execution_count": 12,
   "metadata": {},
   "outputs": [
    {
     "name": "stdout",
     "output_type": "stream",
     "text": [
      "Mercurio\n",
      "Venus\n",
      "Tierra\n",
      "Marte\n",
      "Jupiter\n",
      "Saturno\n",
      "Urano\n",
      "Neptuno\n",
      "Pluton\n"
     ]
    }
   ],
   "source": [
    "#Ejecicio 1\n",
    "nuevoPlaneta = ''\n",
    "planetas = []\n",
    "while nuevoPlaneta != 'hecho' :\n",
    "    if nuevoPlaneta != '' : \n",
    "        planetas.append(nuevoPlaneta)\n",
    "    \n",
    "    nuevoPlaneta = input(\"Inpresa un nuevo planeta o si terminaste escribe hecho: \")\n",
    "    if nuevoPlaneta == 'Hecho' or nuevoPlaneta == 'HECHO' : \n",
    "        nuevoPlaneta = nuevoPlaneta.lower()\n",
    "#print(planetas)\n",
    "\n",
    "#Ejercicio 2 \n",
    "for num in planetas :\n",
    "    print(num)"
   ]
  },
  {
   "cell_type": "code",
   "execution_count": null,
   "metadata": {},
   "outputs": [],
   "source": []
  }
 ],
 "metadata": {
  "interpreter": {
   "hash": "9efce205f64ad363cd9f14615485aca38ee4ef0915866e318aa83c8d0c93f6fc"
  },
  "kernelspec": {
   "display_name": "Python 3.10.2 64-bit",
   "language": "python",
   "name": "python3"
  },
  "language_info": {
   "codemirror_mode": {
    "name": "ipython",
    "version": 3
   },
   "file_extension": ".py",
   "mimetype": "text/x-python",
   "name": "python",
   "nbconvert_exporter": "python",
   "pygments_lexer": "ipython3",
   "version": "3.10.2"
  },
  "orig_nbformat": 4
 },
 "nbformat": 4,
 "nbformat_minor": 2
}
