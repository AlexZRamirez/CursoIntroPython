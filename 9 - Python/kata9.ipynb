{
 "cells": [
  {
   "cell_type": "code",
   "execution_count": 79,
   "metadata": {},
   "outputs": [
    {
     "name": "stdout",
     "output_type": "stream",
     "text": [
      "El tanque 1 tiene: 14\n",
      "El tanque 2 tiene: 42\n",
      "El tanque 3 tiene: 54\n",
      "El promedio de combustible es: 36.67\n"
     ]
    }
   ],
   "source": [
    "#Ejercicio 1\n",
    "'''def informeTanque(tanque1, tanque2,tanque3) :\n",
    "    promedio = (tanque1 + tanque2 + tanque3) / 3\n",
    "    reporte = \"El tanque 1 tiene: \" + str(tanque1) + \"\\nEl tanque 2 tiene: \" + str(tanque2) + \"\\nEl tanque 3 tiene: \" + str(tanque3)\n",
    "    print(reporte + \"\\nEl promedio de combustible es: \" + str(promedio))\n",
    "informeTanque(2135, 5422, 1002)'''\n",
    "\n",
    "def informeTanque(tanque1, tanque2,tanque3) :\n",
    "    prom = round(promedio(tanque1,tanque2,tanque3),2)\n",
    "    reporte = \"El tanque 1 tiene: \" + str(tanque1) + \"\\nEl tanque 2 tiene: \" + str(tanque2) + \"\\nEl tanque 3 tiene: \" + str(tanque3)\n",
    "    print(reporte + \"\\nEl promedio de combustible es: \" + str(prom))\n",
    "def promedio(*valores) :\n",
    "    prom = sum(valores) / len(valores)\n",
    "    return prom\n",
    "\n",
    "#informeTanque(2135, 5422, 1002)\n",
    "informeTanque(14, 42, 54)\n",
    "#promedio(14,42,54)"
   ]
  },
  {
   "cell_type": "code",
   "execution_count": 98,
   "metadata": {},
   "outputs": [
    {
     "name": "stdout",
     "output_type": "stream",
     "text": [
      "La hora de pre-lanzamiento es a las: 14 horas\n",
      "El tiempo estimado de vuelo es de: 132 horas\n",
      "Tenemos un combustible total de 155000 galones\n",
      "El destino es: Luna\n",
      "--------------------------------------------------\n",
      "Estado de los tanques...\n",
      "Interno tanque --> 80000 galones restantes\n",
      "Externo tanque --> 60000 galones restantes\n",
      "Hidrogeno tanque --> 5000 galones restantes\n",
      "Reserva tanque --> 10000 galones restantes\n"
     ]
    }
   ],
   "source": [
    "#Ejercicio 2\n",
    "'''def informeMision(horaPreLanzamiento, tiempoVuelo, destino, tanqueExterno, tanqueInterno):\n",
    "    informe = f\"\"\"La hora de pre-lanzamiento es: {horaPreLanzamiento} \n",
    "    El tiempo de vuelo es: {tiempoVuelo} \n",
    "    Tenemos el tanque externo a: {tanqueExterno}\n",
    "    Y el tanque interno a: {tanqueInterno}\n",
    "    El destino es: {destino}\"\"\"\n",
    "    print(informe)\n",
    "informeMision(14, 69, \"Luna\", 20000, 60000)'''\n",
    "\n",
    "def informeMision(horaPreLanzamiento, destino, *horas, **tanques):\n",
    "    ast = \"-\"*50\n",
    "    informe = f\"\"\"La hora de pre-lanzamiento es a las: {horaPreLanzamiento} horas\n",
    "El tiempo estimado de vuelo es de: {sum(horas)} horas\n",
    "Tenemos un combustible total de {sum(tanques.values())} galones\n",
    "El destino es: {destino}\n",
    "{ast}\n",
    "Estado de los tanques...\"\"\"\n",
    "    for tanque, galon in tanques.items():\n",
    "        informe += f\"\\n{tanque} tanque --> {galon} galones restantes\" \n",
    "    print(informe)\n",
    "informeMision(14, \"Luna\", 100,32, Interno=80000, Externo=60000, Hidrogeno=5000, Reserva=10000)\n",
    "\n"
   ]
  }
 ],
 "metadata": {
  "interpreter": {
   "hash": "9efce205f64ad363cd9f14615485aca38ee4ef0915866e318aa83c8d0c93f6fc"
  },
  "kernelspec": {
   "display_name": "Python 3.10.2 64-bit",
   "language": "python",
   "name": "python3"
  },
  "language_info": {
   "codemirror_mode": {
    "name": "ipython",
    "version": 3
   },
   "file_extension": ".py",
   "mimetype": "text/x-python",
   "name": "python",
   "nbconvert_exporter": "python",
   "pygments_lexer": "ipython3",
   "version": "3.10.2"
  },
  "orig_nbformat": 4
 },
 "nbformat": 4,
 "nbformat_minor": 2
}
