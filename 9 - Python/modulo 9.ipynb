{
 "cells": [
  {
   "cell_type": "code",
   "execution_count": null,
   "metadata": {},
   "outputs": [],
   "source": [
    "#Funciones sin argumentos\n",
    "def partesCohete(): # Defino mi función\n",
    "    print('payload, propellant, structure')\n",
    "\n",
    "partesCohete() # Llamo a mi función\n",
    "\n",
    "output = partesCohete() #Se puede asignar a una variable"
   ]
  },
  {
   "cell_type": "code",
   "execution_count": 1,
   "metadata": {},
   "outputs": [
    {
     "data": {
      "text/plain": [
       "'5'"
      ]
     },
     "execution_count": 1,
     "metadata": {},
     "output_type": "execute_result"
    }
   ],
   "source": [
    "#Argumentos requeridos\n",
    "#Funciones que requieren argumentos\n",
    "any([True,False,False])#Funcion any(), esta devuelve true en caso que alguno de los argumentos sea true\n",
    "any([False,False,False])\n",
    "#any() || Muestra error pues necesita un argumento\n",
    "#Funciones que los argumentos son opcionales\n",
    "str() #En caso de no dar un argumento regresa una cadena vacia\n",
    "str(5)\n"
   ]
  },
  {
   "cell_type": "code",
   "execution_count": 2,
   "metadata": {},
   "outputs": [
    {
     "data": {
      "text/plain": [
       "'Incapaz de calcular a ese destino'"
      ]
     },
     "execution_count": 2,
     "metadata": {},
     "output_type": "execute_result"
    }
   ],
   "source": [
    "#Funcion con un argumento\n",
    "def distanciaDesdeTierra(destino):\n",
    "    if destino == \"Luna\":\n",
    "        return '238,855'\n",
    "    else:\n",
    "        return 'Incapaz de calcular a ese destino'\n",
    "\n",
    "#distanciaDesdeTierra() | Regresa error pues necesita un argumento para ser ejecutada\n",
    "distanciaDesdeTierra(\"Luna\")\n",
    "distanciaDesdeTierra(\"Saturno\")"
   ]
  },
  {
   "cell_type": "code",
   "execution_count": null,
   "metadata": {},
   "outputs": [],
   "source": [
    "#Funcion con 2 o mas argumentos\n",
    "def diasParaCompletar(distancia, velocidad):\n",
    "    horas = distancia/velocidad\n",
    "    return horas/24\n",
    "diasParaCompletar(238855, 75)\n",
    "#Funciones como argumentos\n",
    "totalDias = diasParaCompletar(238855, 75) #Se puede asignar a una variable la funcion y luego utilizar la variable en otra funcion\n",
    "round(totalDias)\n",
    "round(diasParaCompletar(238855, 75)) #La otra forma es utilizar la funcion dentro de la otra funcion"
   ]
  },
  {
   "cell_type": "code",
   "execution_count": null,
   "metadata": {},
   "outputs": [],
   "source": [
    "#Funcion que utliza argumentos de palabra clave\n",
    "#Se refiere a que en caso de que la funcion no reciba algun valor, se realiza las instrucciones con el valor por defecto\n",
    "from datetime import timedelta, datetime\n",
    "\n",
    "def horaLlegada(horas=51):\n",
    "    actual = datetime.now()\n",
    "    Llegada = actual + timedelta(hours=horas)\n",
    "    if Llegada.strftime(\"%A\") == \"Sunday\" :\n",
    "        dia = \"Domingo\"\n",
    "        hora = Llegada.strftime('%H:%M')\n",
    "    if Llegada.strftime(\"%A\") == \"Thursday\" :\n",
    "        dia = \"Jueves\"\n",
    "        hora = Llegada.strftime('%H:%M')\n",
    "    return print(\"Llegada: \" + dia +\" a las \"+ hora)\n",
    "horaLlegada()\n",
    "horaLlegada(0)"
   ]
  },
  {
   "cell_type": "code",
   "execution_count": null,
   "metadata": {},
   "outputs": [],
   "source": [
    "#Combinación de argumentos y argumentos de palabra clave\n",
    "#Los argumentos siempre se declaran primero, seguidos de argumentos de palabra clave.\n",
    "#En este caso es necesario que lleve un argumento, pues uno no utliza argumento de palabra clave\n",
    "from datetime import timedelta, datetime\n",
    "def horaLlegada(destino, horas=51):\n",
    "    actual = datetime.now()\n",
    "    llegada = actual + timedelta(hours=horas)\n",
    "    if llegada.strftime(\"%A\") == \"Sunday\" :\n",
    "        dia = \"Domingo\"\n",
    "        hora = llegada.strftime('%H:%M')\n",
    "    if llegada.strftime(\"%A\") == \"Thursday\" :\n",
    "        dia = \"Jueves\"\n",
    "        hora = llegada.strftime('%H:%M')\n",
    "    return print(destino + \", hora de llegada: \" + dia + \" a las \" + hora )\n",
    "\n",
    "horaLlegada(\"Luna\")\n",
    "horaLlegada(\"Orbita\", 0.13)"
   ]
  },
  {
   "cell_type": "code",
   "execution_count": null,
   "metadata": {},
   "outputs": [],
   "source": [
    "#Argumentos de variable\n",
    "#Cuando se usan argumentos de variable, la función permite pasar cualquier número de argumentos\n",
    "def longVariable(*args):\n",
    "    print(args)\n",
    "longVariable()\n",
    "longVariable(\"Uno\",\"Dos\",\"Tres\")\n",
    "longVariable(None)\n",
    "longVariable(1,2,3,4)\n",
    "\n",
    "def tiempoSecuencia(*args):\n",
    "    minutosTotales = sum(args)\n",
    "    if minutosTotales < 60:\n",
    "        return f'Tiempo restante para el lanzamiento {minutosTotales} minutos'\n",
    "    else:\n",
    "        return f'Tiempo restante para el lanzamiento {minutosTotales/60} horas'\n",
    "\n",
    "tiempoSecuencia(4, 14, 18)\n",
    "tiempoSecuencia(4, 14, 48)"
   ]
  },
  {
   "cell_type": "code",
   "execution_count": null,
   "metadata": {},
   "outputs": [],
   "source": [
    "#Argumentos de palabra clave variable\n",
    "#Para que una función acepte cualquier número de argumentos de palabra clave, debe usar una sintaxis similar. En este caso, se requiere un asterisco doble:\n",
    "def longVariable(**cvargs):\n",
    "    print(cvargs)\n",
    "longVariable()\n",
    "longVariable(tanques=1, dia='Miercoles', pilotos=3)\n",
    "\n",
    "def miembrosTripulacion(**cvargs):\n",
    "    print(f'{len(cvargs)} astronautas asignados a esta mision:')\n",
    "    for titulo, nombre in cvargs.items():\n",
    "        print(f'{titulo}: {nombre}')\n",
    "miembrosTripulacion(capitan='Neil Armstrong', piloto='Buzz Aldrin', piloto_comandante='Michael Collins')"
   ]
  }
 ],
 "metadata": {
  "interpreter": {
   "hash": "9efce205f64ad363cd9f14615485aca38ee4ef0915866e318aa83c8d0c93f6fc"
  },
  "kernelspec": {
   "display_name": "Python 3.10.2 64-bit",
   "language": "python",
   "name": "python3"
  },
  "language_info": {
   "codemirror_mode": {
    "name": "ipython",
    "version": 3
   },
   "file_extension": ".py",
   "mimetype": "text/x-python",
   "name": "python",
   "nbconvert_exporter": "python",
   "pygments_lexer": "ipython3",
   "version": "3.10.2"
  },
  "orig_nbformat": 4
 },
 "nbformat": 4,
 "nbformat_minor": 2
}
