{
 "cells": [
  {
   "cell_type": "code",
   "execution_count": 12,
   "metadata": {},
   "outputs": [
    {
     "name": "stdout",
     "output_type": "stream",
     "text": [
      "['Mercurio', 'Venus', 'Tierra', 'Marte', 'Jupiter', 'Saturno', 'Urano', 'Neptuno']\n",
      "8\n",
      "['Mercurio', 'Venus', 'Tierra', 'Marte', 'Jupiter', 'Saturno', 'Urano', 'Neptuno', 'Pluton']\n",
      "9\n",
      "Pluton  es el ultimo planeta del sistema solar\n"
     ]
    }
   ],
   "source": [
    "planetas = [\"Mercurio\",\"Venus\",\"Tierra\",\"Marte\",\"Jupiter\",\"Saturno\",\"Urano\",\"Neptuno\"]\n",
    "tamanoPlanetas = len(planetas)\n",
    "print(planetas)\n",
    "print(tamanoPlanetas)\n",
    "planetas.append(\"Pluton\")\n",
    "tamanoPlanetas = len(planetas)\n",
    "print(planetas)\n",
    "print(tamanoPlanetas)\n",
    "print(planetas[-1], \" es el ultimo planeta del sistema solar\")\n"
   ]
  },
  {
   "cell_type": "code",
   "execution_count": 11,
   "metadata": {},
   "outputs": [
    {
     "name": "stdout",
     "output_type": "stream",
     "text": [
      "Tu planeta tiene el indice 2\n",
      "Planetas mas cerca del sol:  ['Mercurio', 'Venus']\n",
      "Planetas mas lejos del sol:  ['Marte', 'Jupiter', 'Saturno', 'Urano', 'Neptuno']\n"
     ]
    }
   ],
   "source": [
    "planetas = [\"Mercurio\",\"Venus\",\"Tierra\",\"Marte\",\"Jupiter\",\"Saturno\",\"Urano\",\"Neptuno\"]\n",
    "planetaBuscar = input(\"Ingresa el planeta que quieres buscar: \")\n",
    "indiceDato = planetas.index(planetaBuscar)\n",
    "masCercaSol = planetas[0:indiceDato]\n",
    "masLejosSol = planetas[indiceDato+1:]\n",
    "print(\"Tu planeta tiene el indice\", indiceDato)\n",
    "print(\"Planetas mas cerca del sol: \",masCercaSol)\n",
    "print(\"Planetas mas lejos del sol: \",masLejosSol)"
   ]
  }
 ],
 "metadata": {
  "interpreter": {
   "hash": "9efce205f64ad363cd9f14615485aca38ee4ef0915866e318aa83c8d0c93f6fc"
  },
  "kernelspec": {
   "display_name": "Python 3.10.2 64-bit",
   "language": "python",
   "name": "python3"
  },
  "language_info": {
   "codemirror_mode": {
    "name": "ipython",
    "version": 3
   },
   "file_extension": ".py",
   "mimetype": "text/x-python",
   "name": "python",
   "nbconvert_exporter": "python",
   "pygments_lexer": "ipython3",
   "version": "3.10.2"
  },
  "orig_nbformat": 4
 },
 "nbformat": 4,
 "nbformat_minor": 2
}
