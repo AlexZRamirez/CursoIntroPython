{
 "cells": [
  {
   "cell_type": "code",
   "execution_count": 4,
   "metadata": {},
   "outputs": [
    {
     "name": "stdout",
     "output_type": "stream",
     "text": [
      "Hola es el primer texto, no es un hola mundo\n",
      "6\n"
     ]
    },
    {
     "data": {
      "text/plain": [
       "float"
      ]
     },
     "execution_count": 4,
     "metadata": {},
     "output_type": "execute_result"
    }
   ],
   "source": [
    "#IMPRESION DE TEXTO EN CONSOLA\n",
    "print(\"Hola es el primer texto, no es un hola mundo\")\n",
    "#VARIABLES\n",
    "suma = 1 + 2\n",
    "producto = suma * 2\n",
    "print(producto)\n",
    "#TIPOS DE DATO\n",
    "numPlanetas = 8 # dato tipo entero | Int\n",
    "distanciaAlfaCentauri = 4.367 # dato tipo flotante | Float\n",
    "permisoDespegar = True # tipo booleano | Bool\n",
    "tranbordadorLuna = \"Apolo 11\" #tipo cadena | string\n",
    "#para saber el tipo de dato se utiliza type()\n",
    "type(distanciaAlfaCentauri)\n"
   ]
  },
  {
   "cell_type": "code",
   "execution_count": 6,
   "metadata": {},
   "outputs": [
    {
     "name": "stdout",
     "output_type": "stream",
     "text": [
      "2.0\n"
     ]
    }
   ],
   "source": [
    "#OPERADORES | se estructuran de la siguiente forma (ladoIzquierdo) (operador) (ladoDerecho)\n",
    "ladoIzquierdo = 10\n",
    "ladoDerecho = 5\n",
    "operacion = ladoIzquierdo / ladoDerecho\n",
    "print(operacion)"
   ]
  },
  {
   "cell_type": "code",
   "execution_count": null,
   "metadata": {},
   "outputs": [],
   "source": [
    "#OPERADORES ARITMETICOS \n",
    "suma = 5 + 5 # OPERADOR +\n",
    "resta = 10 - 3 # OPERADOR -\n",
    "division = 24 / 6 # OPERADOR /\n",
    "multiplicacion = 5 * 5 # OPERADOR *\n",
    "\n",
    "#OPERADORES DE ASIGNACION\n",
    "\n",
    "xData = 2 # OPERADOR = | x ahora contiene 2\n",
    "xData += 2 # OPERADOR = | x incrementado en 2\n",
    "xData -= 2 # OPERADOR = | x decremntado en 2\n",
    "xData /= 2# OPERADOR = | x divido por 2\n",
    "xData *= 2 # OPERADOR = | x multiplicado por 2"
   ]
  },
  {
   "cell_type": "code",
   "execution_count": 20,
   "metadata": {},
   "outputs": [
    {
     "name": "stdout",
     "output_type": "stream",
     "text": [
      "2022-02-10\n",
      "Es una fecha: 2022-02-10\n"
     ]
    }
   ],
   "source": [
    "#FECHAS\n",
    "from datetime import date\n",
    "fecha = date.today() # Obtenemos la fecha de hoY\n",
    "print(fecha)\n",
    "#CONVERSION A STRING\n",
    "print(\"Es una fecha: \" + str(fecha)) #print(\"Es una fecha: \" + fecha) daria error pues se concatena 2 tipos de dato diferentes"
   ]
  },
  {
   "cell_type": "code",
   "execution_count": 1,
   "metadata": {},
   "outputs": [
    {
     "name": "stdout",
     "output_type": "stream",
     "text": [
      "Este es un texto de bienvenida\n",
      "Buen dia, tarde o noche : Alex\n"
     ]
    }
   ],
   "source": [
    "print(\"Este es un texto de bienvenida\")\n",
    "name = input(\"Ingresa su nombre \") \n",
    "print(\"Buen dia, tarde o noche \" + name)"
   ]
  },
  {
   "cell_type": "code",
   "execution_count": null,
   "metadata": {},
   "outputs": [],
   "source": [
    "print(\"Calculadora\")\n",
    "numPrimero = input(\"Primer número: \")\n",
    "numSegundo = input(\"Segundo número: \")\n",
    "print(numPrimero + numSegundo) # no funciona pues ambos los detecta como string no como int\n",
    "print(int(numPrimero) + int(numSegundo))"
   ]
  }
 ],
 "metadata": {
  "interpreter": {
   "hash": "9efce205f64ad363cd9f14615485aca38ee4ef0915866e318aa83c8d0c93f6fc"
  },
  "kernelspec": {
   "display_name": "Python 3.10.2 64-bit",
   "language": "python",
   "name": "python3"
  },
  "language_info": {
   "codemirror_mode": {
    "name": "ipython",
    "version": 3
   },
   "file_extension": ".py",
   "mimetype": "text/x-python",
   "name": "python",
   "nbconvert_exporter": "python",
   "pygments_lexer": "ipython3",
   "version": "3.10.2"
  },
  "orig_nbformat": 4
 },
 "nbformat": 4,
 "nbformat_minor": 2
}
