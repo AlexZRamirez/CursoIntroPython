{
 "cells": [
  {
   "cell_type": "code",
   "execution_count": 9,
   "metadata": {},
   "outputs": [
    {
     "name": "stdout",
     "output_type": "stream",
     "text": [
      "Es la distancia en kms 628949330\n",
      "Es la distancia en millas 390577534\n"
     ]
    }
   ],
   "source": [
    "Tierra = 149597870\n",
    "Jupiter = 778547200\n",
    "\n",
    "distancia = Tierra - Jupiter\n",
    "distancia = abs(distancia)\n",
    "distMillas = round(distancia * 0.621)\n",
    "print(\"Es la distancia en kms \" + str(distancia))\n",
    "print(\"Es la distancia en millas \" + str(distMillas))"
   ]
  },
  {
   "cell_type": "code",
   "execution_count": 11,
   "metadata": {},
   "outputs": [
    {
     "name": "stdout",
     "output_type": "stream",
     "text": [
      "Es la distancia en kms 50300000\n",
      "Es la distancia en millas 31236300\n"
     ]
    }
   ],
   "source": [
    "planeta1 = input(\"Distancia al sol planeta 1: \")\n",
    "planeta2 = input(\"Distancia al sol planeta 2: \")\n",
    "\n",
    "planeta1 = int(planeta1)\n",
    "planeta2 = int(planeta2)\n",
    "\n",
    "distancia = planeta1 - planeta2\n",
    "distancia = abs(distancia)\n",
    "distMillas = round(distancia * 0.621)\n",
    "print(\"Es la distancia en kms \" + str(distancia))\n",
    "print(\"Es la distancia en millas \" + str(distMillas))"
   ]
  }
 ],
 "metadata": {
  "interpreter": {
   "hash": "9efce205f64ad363cd9f14615485aca38ee4ef0915866e318aa83c8d0c93f6fc"
  },
  "kernelspec": {
   "display_name": "Python 3.10.2 64-bit",
   "language": "python",
   "name": "python3"
  },
  "language_info": {
   "codemirror_mode": {
    "name": "ipython",
    "version": 3
   },
   "file_extension": ".py",
   "mimetype": "text/x-python",
   "name": "python",
   "nbconvert_exporter": "python",
   "pygments_lexer": "ipython3",
   "version": "3.10.2"
  },
  "orig_nbformat": 4
 },
 "nbformat": 4,
 "nbformat_minor": 2
}
