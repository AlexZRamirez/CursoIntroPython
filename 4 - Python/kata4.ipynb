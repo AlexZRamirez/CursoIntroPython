{
 "cells": [
  {
   "cell_type": "code",
   "execution_count": 20,
   "metadata": {},
   "outputs": [
    {
     "name": "stdout",
     "output_type": "stream",
     "text": [
      " \n",
      "On average, the Moon moves 4cm away from the Earth every year\n",
      " The highest daylight temperature of the Moon is 127 Celsius\n"
     ]
    }
   ],
   "source": [
    "text = \"\"\"Interesting facts about the Moon. The Moon is Earth's only satellite. There are several interesting facts about the Moon and how it affects life here on Earth. \n",
    "On average, the Moon moves 4cm away from the Earth every year. This yearly drift is not significant enough to cause immediate effects on Earth. The highest daylight temperature of the Moon is 127 C.\"\"\"\n",
    "divido = text.split('.')\n",
    "palabrasClave=['average','temperature','distance']\n",
    "for texto in divido:\n",
    "    for clave in palabrasClave:\n",
    "        if clave in texto:\n",
    "            print(texto.replace('C','Celsius'))\n"
   ]
  },
  {
   "cell_type": "code",
   "execution_count": 2,
   "metadata": {},
   "outputs": [
    {
     "name": "stdout",
     "output_type": "stream",
     "text": [
      "Datos Sobre La Gravedad De La Luna\n",
      "--------------------------------------------------------------------------------\n",
      "Nombre del planeta Tierra\n",
      "Gravedad en la Luna: 1.6199999999999999 m/s2\n",
      "Datos sobre la gravedad de la Luna\n",
      "-------------------------------------------------------------------------------\n",
      "Nombre del planeta: Tierra\n",
      "Gravedad enla Luna: 1.6199999999999999 m/s2\n"
     ]
    }
   ],
   "source": [
    "nombre = \"la Luna\"\n",
    "gravedad = 0.00162\n",
    "planeta = \"Tierra\"\n",
    "\n",
    "'''planeta = \"Marte\"\n",
    "gravedad  = 0.00143\n",
    "nombre = \"Ganímedes\"'''\n",
    "\n",
    "titulo1 = f\"Datos sobre la gravedad de {nombre}\"\n",
    "datos = f\"\"\"{'-'*80}\n",
    "Nombre del planeta {planeta}\n",
    "Gravedad en {nombre}: {gravedad *1000} m/s2\"\"\"\n",
    "\n",
    "plantillaProto = f\"\"\"{titulo1.title()}\n",
    "{datos}\"\"\"\n",
    "print(plantillaProto)\n",
    "gravedad = gravedad * 1000\n",
    "#Manera 1 de realizar\n",
    "#print(\"Datos sobre la gravedad de {satelite}\".format(satelite=nombre))\n",
    "#print(\"-------------------------------------------------------------------------------\")\n",
    "#print(\"Nombre del planeta: {planet}\\nGravedad en{satelite}: {grav} m/s2\".format(planet=planeta,satelite=nombre,grav=gravedad))\n",
    "\n",
    "#FORMA 2 DE realizar\n",
    "plantilla = \"\"\"Datos sobre la gravedad de {satelite}\n",
    "-------------------------------------------------------------------------------\n",
    "Nombre del planeta: {planet}\\nGravedad en{satelite}: {grav} m/s2\"\"\"\n",
    "\n",
    "print(plantilla.format(planet=planeta,satelite=nombre,grav=gravedad))"
   ]
  },
  {
   "cell_type": "code",
   "execution_count": null,
   "metadata": {},
   "outputs": [],
   "source": []
  }
 ],
 "metadata": {
  "interpreter": {
   "hash": "9efce205f64ad363cd9f14615485aca38ee4ef0915866e318aa83c8d0c93f6fc"
  },
  "kernelspec": {
   "display_name": "Python 3.10.2 64-bit",
   "language": "python",
   "name": "python3"
  },
  "language_info": {
   "codemirror_mode": {
    "name": "ipython",
    "version": 3
   },
   "file_extension": ".py",
   "mimetype": "text/x-python",
   "name": "python",
   "nbconvert_exporter": "python",
   "pygments_lexer": "ipython3",
   "version": "3.10.2"
  },
  "orig_nbformat": 4
 },
 "nbformat": 4,
 "nbformat_minor": 2
}
