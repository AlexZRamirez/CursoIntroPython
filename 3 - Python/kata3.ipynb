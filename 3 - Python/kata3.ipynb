{
 "cells": [
  {
   "cell_type": "code",
   "execution_count": 13,
   "metadata": {},
   "outputs": [
    {
     "name": "stdout",
     "output_type": "stream",
     "text": [
      "¡Esto es peligroso! viene a 49 km/s\n"
     ]
    }
   ],
   "source": [
    "asteroideDistancia = 49\n",
    "if asteroideDistancia < 25:\n",
    "    print(\"Todo esta bien por ahora, el asteroide viene a \"+ str(asteroideDistancia)+\" km/s\")\n",
    "else: \n",
    "    print(\"¡Esto es peligroso! viene a \"+str(asteroideDistancia)+\" km/s\")"
   ]
  },
  {
   "cell_type": "code",
   "execution_count": 5,
   "metadata": {},
   "outputs": [
    {
     "name": "stdout",
     "output_type": "stream",
     "text": [
      "No se puede ver el asteroide que viene a 19 km/s\n"
     ]
    }
   ],
   "source": [
    "asteroideDistancia = 19\n",
    "\n",
    "'''if asteroideDistancia >= 20:\n",
    "    print(\"Se puede ver el asteroide que viene a \" + str(asteroideDistancia) +\"km/s\")\n",
    "elif asteroideDistancia < 20:\n",
    "    print(\"No se puede ver el asteroide que viene a \"  + str(asteroideDistancia) +\" km/s\")'''\n",
    "if asteroideDistancia > 20:\n",
    "    print(\"Se puede ver el asteroide que viene a \" + str(asteroideDistancia) +\"km/s\")\n",
    "elif asteroideDistancia == 20:\n",
    "    print(\"No se puede ver el asteroide que viene a \"  + str(asteroideDistancia) +\" km/s\")\n",
    "else: \n",
    "    print(\"No se puede ver el asteroide que viene a \"  + str(asteroideDistancia) +\" km/s\")"
   ]
  },
  {
   "cell_type": "code",
   "execution_count": 100,
   "metadata": {},
   "outputs": [
    {
     "name": "stdout",
     "output_type": "stream",
     "text": [
      "El asteroide va algo rapido\n",
      "Pero no pasa nada, es menor a 25mts\n",
      "Asi que deberias mirar el firmamento\n"
     ]
    }
   ],
   "source": [
    "asteroideVelocidad = 30\n",
    "asteroideTamano = 20\n",
    "velocidad = \"\"\n",
    "estrella = \"\"\n",
    "tamano = \"\"\n",
    "\n",
    "if asteroideTamano > 25 :\n",
    "    tamano=\"Es un asteroide algo grande\"\n",
    "elif asteroideTamano <= 25 : \n",
    "    tamano=\"Pero no pasa nada, es menor a 25mts\"\n",
    "\n",
    "if asteroideVelocidad > 25 and asteroideTamano > 25 :\n",
    "    print(\"¡Activar todos los sistemas de alerta!\")\n",
    "    tamano=\"\"\n",
    "elif asteroideVelocidad > 25:\n",
    "    velocidad = \"El asteroide va algo rapido\"    \n",
    "    estrella = \"Asi que deberias mirar el firmamento\"\n",
    "elif asteroideVelocidad >= 20 :\n",
    "    velocidad= \"No es un problema la velocidad\"\n",
    "    estrella = \"Hay una luz en el firmamento, deberias mirarla\"\n",
    "else:\n",
    "    velocidad = \"Tiene muy poca velocidad no deberias preocuparte\"\n",
    "\n",
    "\n",
    "print(velocidad)\n",
    "print(tamano)\n",
    "print(estrella)\n",
    "    "
   ]
  }
 ],
 "metadata": {
  "interpreter": {
   "hash": "9efce205f64ad363cd9f14615485aca38ee4ef0915866e318aa83c8d0c93f6fc"
  },
  "kernelspec": {
   "display_name": "Python 3.10.2 64-bit",
   "language": "python",
   "name": "python3"
  },
  "language_info": {
   "codemirror_mode": {
    "name": "ipython",
    "version": 3
   },
   "file_extension": ".py",
   "mimetype": "text/x-python",
   "name": "python",
   "nbconvert_exporter": "python",
   "pygments_lexer": "ipython3",
   "version": "3.10.2"
  },
  "orig_nbformat": 4
 },
 "nbformat": 4,
 "nbformat_minor": 2
}
