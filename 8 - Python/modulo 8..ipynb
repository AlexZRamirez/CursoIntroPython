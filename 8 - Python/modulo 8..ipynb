{
 "cells": [
  {
   "cell_type": "code",
   "execution_count": 22,
   "metadata": {},
   "outputs": [
    {
     "name": "stdout",
     "output_type": "stream",
     "text": [
      "Tierra\n",
      "Tierra\n",
      "{'nombre': 'Marte', 'numLunas': '2'}\n",
      "{'nombre': 'Jupiter', 'numLunas': 79}\n",
      "{'nombre': 'Jupiter', 'numLunas': 79, 'periodoOrbital': 4333}\n",
      "{'nombre': 'Jupiter', 'numLunas': 79}\n",
      "{'nombre': 'Jupiter', 'numLunas': 79, 'diametro(km)': {'polar': 133709, 'ecuatorial': 142984}}\n",
      "Diametro polar de Jupiter : 133709\n",
      "Diametro polar de Jupiter : 133709\n"
     ]
    }
   ],
   "source": [
    "#1-DICCIONARIOS\n",
    "#1.1-CREAR DICCIONARIO\n",
    "planeta = {\n",
    "    'nombre': 'Tierra',\n",
    "    'numLunas': 1\n",
    "}\n",
    "\n",
    "#1.2LECTURA DE DICCIONARIO\n",
    "print(planeta.get('nombre'))\n",
    "# planet['name'] es idéntico a usar planet.get('name')\n",
    "print(planeta['nombre'])\n",
    "\n",
    "#SALDRÁ ERROR PUES NO EXISTE LA CLAVE\n",
    "    #wibble = planeta.get('wibble') # Regresa None\n",
    "    #print(wibble)\n",
    "    #wibble = planeta['wibble'] # Arroja un KeyError\n",
    "    #print(wibble)\n",
    "\n",
    "#MODIFICAR VALOR DE DICCIONARIO\n",
    "planeta.update({\n",
    "    'nombre' : 'Marte',\n",
    "    'numLunas' : '2'})\n",
    "print(planeta)\n",
    "planeta['nombre'] = \"Jupiter\"\n",
    "planeta['numLunas'] = 79\n",
    "print(planeta)\n",
    "#AGREGAR NUEVA CLAVE A DICCIONARIO\n",
    "planeta['periodoOrbital'] = 4333\n",
    "print(planeta)\n",
    "planeta.pop('periodoOrbital')\n",
    "print(planeta)\n",
    "\n",
    "#AGREGAR UN DICCIONARIO DENTRO DE OTRO\n",
    "# Añadimos los datos\n",
    "planeta['diametro(km)'] = {\n",
    "    'polar': 133709,\n",
    "    'ecuatorial': 142984\n",
    "}\n",
    "\n",
    "print(planeta)\n",
    "#Mostrar datos\n",
    "print(\"Diametro polar de\",planeta['nombre'],\":\",planeta['diametro(km)']['polar']) #Utilizando corchetes\n",
    "print(\"Diametro polar de\", planeta.get('nombre'),\":\",planeta.get('diametro(km)').get('polar')) #utilzando get"
   ]
  },
  {
   "cell_type": "code",
   "execution_count": 32,
   "metadata": {},
   "outputs": [
    {
     "name": "stdout",
     "output_type": "stream",
     "text": [
      "octubre : 3.5 cm\n",
      "noviembre : 4.2 cm\n",
      "diciembre : 2.1 cm\n",
      "{'octubre': 3.5, 'noviembre': 4.2, 'diciembre': 3.1}\n",
      "There was 10.8cm in the last quarter\n",
      "Hubo 10.8cm de lluvia en el ultimo cuarto.\n"
     ]
    }
   ],
   "source": [
    "#PROGRAMACION DINAMICA DE DICCIONARIOS\n",
    "lluvia = {\n",
    "    'octubre': 3.5,\n",
    "    'noviembre': 4.2,\n",
    "    'diciembre': 2.1\n",
    "}\n",
    "\n",
    "for clave in lluvia.keys() : \n",
    "    print(clave,\":\",lluvia[clave],\"cm\")\n",
    "\n",
    "#Determinando la existencia de una clave en un diccionario\n",
    "# El valor de diciembre: 2.1cm\n",
    "# Si, 'diciembre' existe en lluvia\n",
    "if 'diciembre' in lluvia:\n",
    "    lluvia['diciembre'] = lluvia['diciembre'] + 1 # lluvia [en la posición december] + 1 (2.1+1)\n",
    "else: # Si no cumple la condicion:\n",
    "\n",
    "    \n",
    "    lluvia['diciembre'] = 1 # lluvia [en la posición december] es igual a 1\n",
    "print(lluvia)\n",
    "\n",
    "#Recuperar todos los valores de un diccionario\n",
    "\n",
    "lluviaTotal = 0 #Total de precipitaciones 0\n",
    "\n",
    "for valor in lluvia.values(): # Para cada valor en los valores de lluvia\n",
    "    lluviaTotal = lluviaTotal + valor # El total de las precipitaciones será igual a ese mismo + el valor que se está iterando\n",
    "\n",
    "print(f'There was {lluviaTotal}cm in the last quarter')\n",
    "print(\"Hubo \"+str(lluviaTotal)+\"cm de lluvia en el ultimo cuarto.\" )"
   ]
  }
 ],
 "metadata": {
  "interpreter": {
   "hash": "9efce205f64ad363cd9f14615485aca38ee4ef0915866e318aa83c8d0c93f6fc"
  },
  "kernelspec": {
   "display_name": "Python 3.10.2 64-bit",
   "language": "python",
   "name": "python3"
  },
  "language_info": {
   "codemirror_mode": {
    "name": "ipython",
    "version": 3
   },
   "file_extension": ".py",
   "mimetype": "text/x-python",
   "name": "python",
   "nbconvert_exporter": "python",
   "pygments_lexer": "ipython3",
   "version": "3.10.2"
  },
  "orig_nbformat": 4
 },
 "nbformat": 4,
 "nbformat_minor": 2
}
