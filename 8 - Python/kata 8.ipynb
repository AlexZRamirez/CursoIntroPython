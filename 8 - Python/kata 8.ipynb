{
 "cells": [
  {
   "cell_type": "code",
   "execution_count": 5,
   "metadata": {},
   "outputs": [
    {
     "name": "stdout",
     "output_type": "stream",
     "text": [
      "El planeta Marte tiene 2 Lunas\n",
      "El planeta Marte tiene una circunferencia polar de 6752km\n"
     ]
    }
   ],
   "source": [
    "#EJERCICIO 1\n",
    "planeta = {\n",
    "    \"nombre\" : \"Marte\",\n",
    "    \"numLunas\" : 2\n",
    "}\n",
    "\n",
    "print(\"El planeta \" + planeta[\"nombre\"] + \" tiene \" + str(planeta.get(\"numLunas\")) + \" Lunas\" )\n",
    "\n",
    "planeta[\"circunferencia(km)\"] = {\n",
    "    \"polar\": 6752,\n",
    "    \"equatorial\": 6792\n",
    "}\n",
    "print(\"El planeta \" + planeta[\"nombre\"] + \" tiene una circunferencia polar de \"+ str(planeta.get(\"circunferencia(km)\").get(\"polar\")) +\"km\")"
   ]
  },
  {
   "cell_type": "code",
   "execution_count": 12,
   "metadata": {},
   "outputs": [
    {
     "name": "stdout",
     "output_type": "stream",
     "text": [
      "17.83\n",
      "12\n"
     ]
    }
   ],
   "source": [
    "#EJERCICIO 2\n",
    "numPlanetas = 0\n",
    "numLunas = 0\n",
    "lunasDePlanetas = {\n",
    "    'mercurio': 0,\n",
    "    'venus': 0,\n",
    "    'tierra': 1,\n",
    "    'marte': 2,\n",
    "    'jupiter': 79,\n",
    "    'saturno': 82,\n",
    "    'urano': 27,\n",
    "    'neptuno': 14,\n",
    "    'pluton': 5,\n",
    "    'haumea': 2,\n",
    "    'makemake': 1,\n",
    "    'eris': 1\n",
    "}\n",
    "#planets = len(lunasDePlanetas.keys()) | Manera sencilla de calcular el numero total de planetas\n",
    "for lunas in lunasDePlanetas.values() :\n",
    "    numPlanetas = numPlanetas + 1 \n",
    "    numLunas = numLunas + lunas\n",
    "\n",
    "promedio = numLunas / numPlanetas\n",
    "print(round(promedio,2))"
   ]
  }
 ],
 "metadata": {
  "interpreter": {
   "hash": "9efce205f64ad363cd9f14615485aca38ee4ef0915866e318aa83c8d0c93f6fc"
  },
  "kernelspec": {
   "display_name": "Python 3.10.2 64-bit",
   "language": "python",
   "name": "python3"
  },
  "language_info": {
   "codemirror_mode": {
    "name": "ipython",
    "version": 3
   },
   "file_extension": ".py",
   "mimetype": "text/x-python",
   "name": "python",
   "nbconvert_exporter": "python",
   "pygments_lexer": "ipython3",
   "version": "3.10.2"
  },
  "orig_nbformat": 4
 },
 "nbformat": 4,
 "nbformat_minor": 2
}
